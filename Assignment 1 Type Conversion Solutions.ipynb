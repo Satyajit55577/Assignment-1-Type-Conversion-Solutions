{
 "cells": [
  {
   "cell_type": "code",
   "execution_count": 1,
   "id": "c0170848-e2d1-45d1-b756-2df0e40f6242",
   "metadata": {},
   "outputs": [
    {
     "name": "stdout",
     "output_type": "stream",
     "text": [
      "57.0\n"
     ]
    }
   ],
   "source": [
    "# Q1 Ans: Covert a iteger to a floatig-poit umber.\n",
    "int_num = 57\n",
    "float_num = float(int_num)\n",
    "print(float_num)"
   ]
  },
  {
   "cell_type": "code",
   "execution_count": 4,
   "id": "9c69b629-3b9c-4655-88f3-ae42462cd096",
   "metadata": {},
   "outputs": [
    {
     "name": "stdout",
     "output_type": "stream",
     "text": [
      "75\n"
     ]
    }
   ],
   "source": [
    "# Q2 Ans: Covert a float to a iteger.\n",
    "float_num = 75.89\n",
    "int_num = int(float_num)\n",
    "print(int_num)"
   ]
  },
  {
   "cell_type": "code",
   "execution_count": 6,
   "id": "55ba02cb-6e62-43e1-b71b-46668a0232a0",
   "metadata": {},
   "outputs": [
    {
     "name": "stdout",
     "output_type": "stream",
     "text": [
      "75 <class 'str'>\n"
     ]
    }
   ],
   "source": [
    "# Q3 Ans: Covert a iteger to a string\n",
    "int_num = 75\n",
    "my_str = str(int_num)\n",
    "print(my_str, type(my_str))"
   ]
  },
  {
   "cell_type": "code",
   "execution_count": 7,
   "id": "5973cf96-5199-4ad7-bd74-97a1281ce8df",
   "metadata": {},
   "outputs": [
    {
     "name": "stdout",
     "output_type": "stream",
     "text": [
      "(1, 5, 'Riya', 'Strawberry')\n"
     ]
    }
   ],
   "source": [
    "# Q4 Ans: Covert a list to a tuple.\n",
    "list1 = [1,5, \"Riya\", \"Strawberry\"]\n",
    "tup = tuple(list1)\n",
    "print(tup)\n"
   ]
  },
  {
   "cell_type": "code",
   "execution_count": 8,
   "id": "ae82dd3c-0bbf-4299-a6b7-297f62860c8e",
   "metadata": {},
   "outputs": [
    {
     "name": "stdout",
     "output_type": "stream",
     "text": [
      "[1, 5, 'Riya', 'Strawberry']\n"
     ]
    }
   ],
   "source": [
    "# Q5 Ans: Covert a tuple to a list.\n",
    "tup1 = (75, 89, 53, \"Satyam\")\n",
    "list1 = list(tup)\n",
    "print(list1)"
   ]
  },
  {
   "cell_type": "code",
   "execution_count": 10,
   "id": "4219ebb6-44e0-4168-a70f-0c9de54a430e",
   "metadata": {},
   "outputs": [
    {
     "name": "stdout",
     "output_type": "stream",
     "text": [
      "0b1010011\n"
     ]
    }
   ],
   "source": [
    "# Q6 Ans: Covert a decimal number to binary.\n",
    "dec_num = 83\n",
    "bin_num = bin(dec_num)\n",
    "print(bin_num)"
   ]
  },
  {
   "cell_type": "code",
   "execution_count": 11,
   "id": "c2797e91-6dc0-4698-aff4-60d43f528bdc",
   "metadata": {},
   "outputs": [
    {
     "name": "stdout",
     "output_type": "stream",
     "text": [
      "True\n"
     ]
    }
   ],
   "source": [
    "# Q7 Ans: Covert a non-zero umber to boolean.\n",
    "num = 87.98\n",
    "bool_num = bool(num)\n",
    "print(bool_num)"
   ]
  },
  {
   "cell_type": "code",
   "execution_count": null,
   "id": "24d8ef5b-cb5e-4059-b9ee-26394cc721c7",
   "metadata": {},
   "outputs": [],
   "source": []
  }
 ],
 "metadata": {
  "kernelspec": {
   "display_name": "Python 3 (ipykernel)",
   "language": "python",
   "name": "python3"
  },
  "language_info": {
   "codemirror_mode": {
    "name": "ipython",
    "version": 3
   },
   "file_extension": ".py",
   "mimetype": "text/x-python",
   "name": "python",
   "nbconvert_exporter": "python",
   "pygments_lexer": "ipython3",
   "version": "3.10.8"
  }
 },
 "nbformat": 4,
 "nbformat_minor": 5
}
